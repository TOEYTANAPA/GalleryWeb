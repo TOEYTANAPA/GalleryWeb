{
 "cells": [
  {
   "cell_type": "code",
   "execution_count": 14,
   "metadata": {
    "collapsed": true
   },
   "outputs": [],
   "source": [
    "import os"
   ]
  },
  {
   "cell_type": "code",
   "execution_count": 15,
   "metadata": {
    "collapsed": false
   },
   "outputs": [
    {
     "name": "stdout",
     "output_type": "stream",
     "text": [
      "..\\materials\\bert\n"
     ]
    }
   ],
   "source": [
    "path=os.path.join('..','materials','bert')\n",
    "print path\n",
    "all_img=os.listdir(path)"
   ]
  },
  {
   "cell_type": "code",
   "execution_count": 21,
   "metadata": {
    "collapsed": false
   },
   "outputs": [
    {
     "data": {
      "text/plain": [
       "list"
      ]
     },
     "execution_count": 21,
     "metadata": {},
     "output_type": "execute_result"
    }
   ],
   "source": [
    "type(all_img)"
   ]
  },
  {
   "cell_type": "code",
   "execution_count": 16,
   "metadata": {
    "collapsed": false
   },
   "outputs": [
    {
     "data": {
      "text/plain": [
       "[<Image: Image object>, <Image: Image object>, <Image: Image object>, <Image: Image object>, <Image: Image object>, <Image: Image object>, <Image: Image object>, <Image: Image object>]"
      ]
     },
     "execution_count": 16,
     "metadata": {},
     "output_type": "execute_result"
    }
   ],
   "source": [
    "Image.objects.all()"
   ]
  },
  {
   "cell_type": "code",
   "execution_count": 34,
   "metadata": {
    "collapsed": false
   },
   "outputs": [
    {
     "name": "stdout",
     "output_type": "stream",
     "text": [
      "/media/images/static_qr_code_without_logo.jpg\n",
      "/media/images/adidas.jpg\n",
      "/media/images/adidas_TL9nAkV.jpg\n",
      "/media/images/file_name.jpg\n",
      "/media/images/file_name_w3Z04iP.jpg\n",
      "/media/images/file_name_ODgvLAc.jpg\n",
      "/media/images/file_name_XJxgZDG.jpg\n",
      "/media/images/file_name_WFv0KQo.jpg\n",
      "/media/images/file_name_YIGnlHC.jpg\n",
      "/media/images/file_name_fv8dBKb.jpg\n",
      "/media/images/file_name_HUf4mcb.jpg\n",
      "/media/images/file_name_khLFfND.jpg\n",
      "/media/images/file_name_SXUiyVQ.jpg\n",
      "/media/images/file_name_C8Wvu30.jpg\n",
      "/media/images/file_name_y2L22QQ.jpg\n",
      "/media/images/file_name_3HNyz4f.jpg\n",
      "/media/images/file_name_wMgzCXb.jpg\n",
      "/media/images/file_name_F343ImK.jpg\n",
      "/media/images/file_name_swLKRxa.jpg\n",
      "/media/images/file_name_ghRGRPX.jpg\n",
      "/media/images/file_name_CbDNse2.jpg\n",
      "/media/images/file_name_meF2lSs.jpg\n",
      "/media/images/file_name_nINUHWu.jpg\n",
      "/media/images/file_name_mZCwQM8.jpg\n",
      "/media/images/file_name_I73hDWY.jpg\n",
      "/media/images/file_name_2e3yTJU.jpg\n",
      "/media/images/file_name_8P2grlt.jpg\n",
      "/media/images/file_name_n6C0cpE.jpg\n",
      "/media/images/file_name_RoW8hM8.jpg\n",
      "/media/images/file_name_gNIExxA.jpg\n",
      "/media/images/file_name_1dAJyJ9.jpg\n",
      "/media/images/file_name_dntGNCV.jpg\n",
      "/media/images/file_name_gC9v6g7.jpg\n",
      "/media/images/file_name_JJEmxlP.jpg\n",
      "/media/images/file_name_WxuM2oE.jpg\n",
      "/media/images/file_name_VzBuk6X.jpg\n",
      "/media/images/file_name_LeIYShw.jpg\n",
      "/media/images/file_name_IKNUExB.jpg\n",
      "/media/images/file_name_3Rv7xD0.jpg\n",
      "/media/images/file_name_wrjU8sJ.jpg\n",
      "/media/images/file_name_Qv8OyMc.jpg\n",
      "/media/images/file_name_I0XcQUZ.jpg\n",
      "/media/images/file_name_FmaTX4I.jpg\n",
      "/media/images/file_name_herCuBL.jpg\n",
      "/media/images/file_name_foKILTc.jpg\n",
      "/media/images/file_name_qJJYzx1.jpg\n",
      "/media/images/file_name_oSbyTEg.jpg\n",
      "/media/images/file_name_VJtm3HP.jpg\n",
      "/media/images/file_name_tNcmNDH.jpg\n",
      "/media/images/file_name_9FuFwAL.jpg\n",
      "/media/images/file_name_2uoMeUh.jpg\n",
      "/media/images/file_name_AO5DF9k.jpg\n",
      "/media/images/file_name_qXCELZo.jpg\n",
      "/media/images/file_name_HJ9I8AG.jpg\n",
      "/media/images/file_name_yam6skW.jpg\n",
      "/media/images/file_name_hXkYxLw.jpg\n",
      "/media/images/file_name_xOV5CdO.jpg\n",
      "/media/images/file_name_CZaR2BW.jpg\n",
      "/media/images/file_name_Jl3MxXp.jpg\n",
      "/media/images/file_name_KQ3SMWd.jpg\n",
      "/media/images/file_name_XpY1Xdp.jpg\n",
      "/media/images/file_name_XnQH9wP.jpg\n",
      "/media/images/file_name_AUHzKmM.jpg\n",
      "/media/images/file_name_5UxVEHO.jpg\n",
      "/media/images/file_name_qQEWOO8.jpg\n",
      "/media/images/file_name_N3QKYN1.jpg\n",
      "/media/images/file_name_ZyY1ab1.jpg\n",
      "/media/images/file_name_sbs4Ncr.jpg\n",
      "/media/images/file_name_K17OsSk.jpg\n",
      "/media/images/file_name_8XnkmAI.jpg\n",
      "/media/images/file_name_99AZNAp.jpg\n",
      "/media/images/file_name_FfdJfmM.jpg\n",
      "/media/images/file_name_zBBq1IQ.jpg\n",
      "/media/images/file_name_FiYF3mK.jpg\n",
      "/media/images/file_name_F7qrfFV.jpg\n",
      "/media/images/file_name_aLMqYH0.jpg\n",
      "/media/images/file_name_U4xLol7.jpg\n",
      "/media/images/file_name_TcHMVWy.jpg\n",
      "/media/images/file_name_3DQvjdl.jpg\n",
      "/media/images/file_name_ThQr4Jg.jpg\n",
      "/media/images/file_name_tgVMfQm.jpg\n",
      "/media/images/file_name_TqAXZe9.jpg\n",
      "/media/images/file_name_W3RKTUM.jpg\n",
      "/media/images/file_name_ub0DbWg.jpg\n",
      "/media/images/file_name_v4brkVQ.jpg\n",
      "/media/images/file_name_PiBJcHm.jpg\n",
      "/media/images/file_name_ZFnjlVO.jpg\n",
      "/media/images/file_name_siKZTuY.jpg\n",
      "/media/images/file_name_95dIErX.jpg\n",
      "/media/images/file_name_xzsqMs0.jpg\n",
      "/media/images/file_name_2RQi50L.jpg\n",
      "/media/images/file_name_q3HLZ5T.jpg\n",
      "/media/images/file_name_NaPdWTF.jpg\n",
      "/media/images/file_name_9lX3q2b.jpg\n",
      "/media/images/file_name_j4gwrne.jpg\n",
      "/media/images/file_name_KHmsitv.jpg\n",
      "/media/images/file_name_rT4Jqba.jpg\n",
      "/media/images/file_name_6DkMTFM.jpg\n",
      "/media/images/file_name_zVIL2d4.jpg\n",
      "/media/images/file_name_AAd3nc3.jpg\n",
      "/media/images/file_name_IBfXhSO.jpg\n",
      "/media/images/file_name_y4LAC4m.jpg\n",
      "/media/images/file_name_orKxERO.jpg\n",
      "/media/images/file_name_AvioD2F.jpg\n",
      "/media/images/file_name_ZFBlUVD.jpg\n",
      "/media/images/file_name_sqr4Kn8.jpg\n",
      "/media/images/file_name_TSLK5dg.jpg\n",
      "/media/images/file_name_JUC97k7.jpg\n",
      "/media/images/file_name_xeFKam2.jpg\n",
      "/media/images/file_name_fihOyXv.jpg\n",
      "/media/images/file_name_rCbOul6.jpg\n",
      "/media/images/file_name_6XxXskn.jpg\n",
      "/media/images/file_name_98caAgR.jpg\n",
      "/media/images/file_name_ipTkwfc.jpg\n",
      "/media/images/file_name_y6ijRs3.jpg\n",
      "/media/images/file_name_RHChpSZ.jpg\n",
      "/media/images/file_name_oXcmzDc.jpg\n",
      "/media/images/file_name_WPooDkx.jpg\n",
      "/media/images/file_name_fL4PzEs.jpg\n",
      "/media/images/file_name_1KxeM83.jpg\n",
      "/media/images/file_name_mangPNs.jpg\n",
      "/media/images/file_name_KUUro8L.jpg\n",
      "/media/images/file_name_a8cqBVC.jpg\n",
      "/media/images/file_name_qDkP55g.jpg\n",
      "/media/images/file_name_ZZhWzUm.jpg\n",
      "/media/images/file_name_DkTZpUD.jpg\n",
      "/media/images/file_name_5zgxhC1.jpg\n",
      "/media/images/file_name_3T8KDiz.jpg\n",
      "/media/images/file_name_U1dv3p8.jpg\n",
      "/media/images/file_name_853Wzve.jpg\n",
      "/media/images/file_name_LEd3mq4.jpg\n",
      "/media/images/file_name_mkQF9Yy.jpg\n",
      "/media/images/file_name_LACFgAG.jpg\n",
      "/media/images/file_name_IVy2cmR.jpg\n",
      "/media/images/file_name_FS7ZqyZ.jpg\n",
      "/media/images/file_name_ZWe0IcK.jpg\n",
      "/media/images/file_name_JozXlR2.jpg\n",
      "/media/images/file_name_0LsV0hE.jpg\n",
      "/media/images/file_name_7uewOjG.jpg\n",
      "/media/images/file_name_42ZyNlV.jpg\n",
      "/media/images/file_name_qn5TkrM.jpg\n",
      "/media/images/file_name_WxFlGb0.jpg\n",
      "/media/images/file_name_WO1LIlU.jpg\n",
      "/media/images/file_name_YO9ds4a.jpg\n",
      "/media/images/file_name_yyDzxga.jpg\n",
      "/media/images/file_name_2VVMey0.jpg\n",
      "/media/images/file_name_SaxvorC.jpg\n",
      "/media/images/file_name_qV7Eaen.jpg\n",
      "/media/images/file_name_Bef4F3l.jpg\n",
      "/media/images/file_name_zPWGWM8.jpg\n",
      "/media/images/file_name_8TAjOuj.jpg\n",
      "/media/images/file_name_vj1M6ry.jpg\n",
      "/media/images/file_name_xP4KvSv.jpg\n",
      "/media/images/file_name_x9TnOYh.jpg\n",
      "/media/images/file_name_uOriCpJ.jpg\n",
      "/media/images/file_name_m76hBdv.jpg\n",
      "/media/images/file_name_Xwurwx8.jpg\n",
      "/media/images/file_name_L8n6YY7.jpg\n",
      "/media/images/file_name_m5sDOOl.jpg\n",
      "/media/images/file_name_htSlQ1R.jpg\n",
      "/media/images/file_name_ggLtMou.jpg\n",
      "/media/images/file_name_8mWOC2K.jpg\n"
     ]
    }
   ],
   "source": [
    "for i in Image.objects.all():\n",
    "    print i.image.url"
   ]
  },
  {
   "cell_type": "code",
   "execution_count": 31,
   "metadata": {
    "collapsed": false
   },
   "outputs": [],
   "source": [
    "from django.core.files import File\n",
    "\n",
    "for i in all_img:\n",
    "    fname=os.path.join(path,i)\n",
    "    img=Image(description=\"some text\")\n",
    "    f=File(open( fname, 'rb'))\n",
    "    img.image.save(\"file_name.jpg\", f)\n"
   ]
  },
  {
   "cell_type": "code",
   "execution_count": null,
   "metadata": {
    "collapsed": true
   },
   "outputs": [],
   "source": []
  }
 ],
 "metadata": {
  "anaconda-cloud": {},
  "kernelspec": {
   "display_name": "Django Shell-Plus",
   "language": "python",
   "name": "django_extensions"
  },
  "language_info": {
   "codemirror_mode": {
    "name": "ipython",
    "version": 2
   },
   "file_extension": ".py",
   "mimetype": "text/x-python",
   "name": "python",
   "nbconvert_exporter": "python",
   "pygments_lexer": "ipython2",
   "version": "2.7.12"
  }
 },
 "nbformat": 4,
 "nbformat_minor": 1
}
